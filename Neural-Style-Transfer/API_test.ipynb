{
 "cells": [
  {
   "cell_type": "code",
   "execution_count": 1,
   "metadata": {},
   "outputs": [],
   "source": [
    "import matplotlib.pylab as plt\n",
    "import numpy as np\n",
    "import tensorflow as tf\n",
    "import tensorflow_hub as hub\n",
    "import cv2 as cv"
   ]
  },
  {
   "cell_type": "code",
   "execution_count": 15,
   "metadata": {},
   "outputs": [],
   "source": [
    "content_image_path = \"Imgs/content5.jpg\"\n",
    "style_image_path = \"Imgs/art5.jpg\""
   ]
  },
  {
   "cell_type": "code",
   "execution_count": 17,
   "metadata": {},
   "outputs": [],
   "source": [
    "def transfer_style(content_image, style_image):\n",
    "\n",
    "    \"\"\"\n",
    "    :param content_image: path of the content image\n",
    "    :param style_image: path of the style image\n",
    "    :param model_path: path to the downloaded pre-trained model.\n",
    "\n",
    "    The 'model' directory already contains the downloaded pre-trained model,but \n",
    "    you can also download the pre-trained model from the below TF HUB link:\n",
    "    https://tfhub.dev/google/magenta/arbitrary-image-stylization-v1-256/2\n",
    "\n",
    "    :return: An image as 3D numpy array.\n",
    "\n",
    "    \"\"\"\n",
    "\n",
    "    print(\"Loading images...\")\n",
    "    # Load content and style images\n",
    "    content_image = plt.imread(content_image)\n",
    "    style_image = plt.imread(style_image)"
   ]
  },
  {
   "cell_type": "code",
   "execution_count": 18,
   "metadata": {},
   "outputs": [
    {
     "name": "stdout",
     "output_type": "stream",
     "text": [
      "Loading images...\n"
     ]
    }
   ],
   "source": [
    "transfer_style(content_image_path, style_image_path)"
   ]
  }
 ],
 "metadata": {
  "kernelspec": {
   "display_name": "base",
   "language": "python",
   "name": "python3"
  },
  "language_info": {
   "codemirror_mode": {
    "name": "ipython",
    "version": 3
   },
   "file_extension": ".py",
   "mimetype": "text/x-python",
   "name": "python",
   "nbconvert_exporter": "python",
   "pygments_lexer": "ipython3",
   "version": "3.11.3"
  },
  "orig_nbformat": 4
 },
 "nbformat": 4,
 "nbformat_minor": 2
}
